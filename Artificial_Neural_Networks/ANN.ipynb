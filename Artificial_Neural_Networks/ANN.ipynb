{
 "cells": [
  {
   "cell_type": "code",
   "execution_count": 71,
   "metadata": {},
   "outputs": [],
   "source": [
    "import numpy as np\n",
    "import pandas as pd\n",
    "import matplotlib.pyplot as plt"
   ]
  },
  {
   "cell_type": "code",
   "execution_count": 72,
   "metadata": {},
   "outputs": [],
   "source": [
    "dataset = pd.read_csv('Churn_Modelling.csv')"
   ]
  },
  {
   "cell_type": "code",
   "execution_count": 73,
   "metadata": {},
   "outputs": [],
   "source": [
    "X = dataset.iloc[:,3:13].values\n",
    "y = dataset.iloc[:,13].values"
   ]
  },
  {
   "cell_type": "code",
   "execution_count": 74,
   "metadata": {},
   "outputs": [],
   "source": [
    "from sklearn.preprocessing import LabelEncoder, OneHotEncoder\n",
    "LabelEncoder_x_1 = LabelEncoder()\n",
    "X[:,1] = LabelEncoder_x_1.fit_transform(X[:,1])\n",
    "LabelEncoder_x_2 = LabelEncoder()\n",
    "X[:,2] = LabelEncoder_x_2.fit_transform(X[:,2])\n",
    "one = OneHotEncoder(categorical_features=[1])\n",
    "X = one.fit_transform(X).toarray()\n",
    "X = X[:,1:]"
   ]
  },
  {
   "cell_type": "code",
   "execution_count": 75,
   "metadata": {},
   "outputs": [],
   "source": [
    "from sklearn.model_selection import train_test_split\n",
    "X_train, X_test, y_train, y_test = train_test_split(X,y,test_size = 0.2,random_state = 0)"
   ]
  },
  {
   "cell_type": "code",
   "execution_count": 76,
   "metadata": {},
   "outputs": [],
   "source": [
    "from sklearn.preprocessing import StandardScaler\n",
    "sc = StandardScaler()\n",
    "X_train = sc.fit_transform(X_train)\n",
    "X_test = sc.transform(X_test)"
   ]
  },
  {
   "cell_type": "code",
   "execution_count": 77,
   "metadata": {},
   "outputs": [],
   "source": [
    "import keras"
   ]
  },
  {
   "cell_type": "code",
   "execution_count": 78,
   "metadata": {},
   "outputs": [],
   "source": [
    "from keras.models import Sequential"
   ]
  },
  {
   "cell_type": "code",
   "execution_count": 79,
   "metadata": {},
   "outputs": [],
   "source": [
    "from keras.layers import Dense"
   ]
  },
  {
   "cell_type": "code",
   "execution_count": 80,
   "metadata": {},
   "outputs": [],
   "source": [
    "classifier = Sequential()\n"
   ]
  },
  {
   "cell_type": "code",
   "execution_count": 81,
   "metadata": {
    "scrolled": true
   },
   "outputs": [],
   "source": [
    "classifier.add(Dense(units = 6, kernel_initializer = 'uniform', activation='relu', input_dim = 11))"
   ]
  },
  {
   "cell_type": "code",
   "execution_count": 82,
   "metadata": {},
   "outputs": [],
   "source": [
    "classifier.add(Dense(units = 6, kernel_initializer = 'uniform', activation='relu'))"
   ]
  },
  {
   "cell_type": "code",
   "execution_count": 83,
   "metadata": {},
   "outputs": [],
   "source": [
    "classifier.add(Dense(units = 1, kernel_initializer = 'uniform', activation='sigmoid'))"
   ]
  },
  {
   "cell_type": "code",
   "execution_count": 84,
   "metadata": {},
   "outputs": [],
   "source": [
    "classifier.compile(optimizer = 'adam', loss = 'binary_crossentropy', metrics = ['accuracy']) "
   ]
  },
  {
   "cell_type": "code",
   "execution_count": 85,
   "metadata": {},
   "outputs": [
    {
     "name": "stdout",
     "output_type": "stream",
     "text": [
      "Epoch 1/100\n",
      "8000/8000 [==============================] - 3s 390us/step - loss: 0.4852 - acc: 0.7959 12s - loss: 0.6641  - ETA: 1s - loss: 0.5044 - acc:\n",
      "Epoch 2/100\n",
      "8000/8000 [==============================] - 1s 137us/step - loss: 0.4280 - acc: 0.7960\n",
      "Epoch 3/100\n",
      "8000/8000 [==============================] - 2s 248us/step - loss: 0.4231 - acc: 0.7990\n",
      "Epoch 4/100\n",
      "8000/8000 [==============================] - 2s 240us/step - loss: 0.4191 - acc: 0.8222\n",
      "Epoch 5/100\n",
      "8000/8000 [==============================] - 2s 238us/step - loss: 0.4165 - acc: 0.8269\n",
      "Epoch 6/100\n",
      "8000/8000 [==============================] - 2s 247us/step - loss: 0.4144 - acc: 0.8304\n",
      "Epoch 7/100\n",
      "8000/8000 [==============================] - 2s 254us/step - loss: 0.4129 - acc: 0.8312\n",
      "Epoch 8/100\n",
      "8000/8000 [==============================] - 2s 240us/step - loss: 0.4113 - acc: 0.8326\n",
      "Epoch 9/100\n",
      "8000/8000 [==============================] - 2s 242us/step - loss: 0.4097 - acc: 0.8339\n",
      "Epoch 10/100\n",
      "8000/8000 [==============================] - 2s 250us/step - loss: 0.4086 - acc: 0.8332\n",
      "Epoch 11/100\n",
      "8000/8000 [==============================] - 2s 234us/step - loss: 0.4078 - acc: 0.8331\n",
      "Epoch 12/100\n",
      "8000/8000 [==============================] - 2s 238us/step - loss: 0.4076 - acc: 0.8347\n",
      "Epoch 13/100\n",
      "8000/8000 [==============================] - 2s 249us/step - loss: 0.4064 - acc: 0.8336\n",
      "Epoch 14/100\n",
      "8000/8000 [==============================] - 2s 239us/step - loss: 0.4061 - acc: 0.8332\n",
      "Epoch 15/100\n",
      "8000/8000 [==============================] - 2s 246us/step - loss: 0.4053 - acc: 0.8337\n",
      "Epoch 16/100\n",
      "8000/8000 [==============================] - 2s 231us/step - loss: 0.4049 - acc: 0.8336\n",
      "Epoch 17/100\n",
      "8000/8000 [==============================] - 2s 235us/step - loss: 0.4045 - acc: 0.8352\n",
      "Epoch 18/100\n",
      "8000/8000 [==============================] - 2s 239us/step - loss: 0.4045 - acc: 0.8350\n",
      "Epoch 19/100\n",
      "8000/8000 [==============================] - 2s 233us/step - loss: 0.4036 - acc: 0.8342\n",
      "Epoch 20/100\n",
      "8000/8000 [==============================] - 2s 240us/step - loss: 0.4033 - acc: 0.8354\n",
      "Epoch 21/100\n",
      "8000/8000 [==============================] - 2s 255us/step - loss: 0.4032 - acc: 0.8342\n",
      "Epoch 22/100\n",
      "8000/8000 [==============================] - 2s 240us/step - loss: 0.4035 - acc: 0.8350\n",
      "Epoch 23/100\n",
      "8000/8000 [==============================] - 2s 240us/step - loss: 0.4026 - acc: 0.8359\n",
      "Epoch 24/100\n",
      "8000/8000 [==============================] - 2s 254us/step - loss: 0.4028 - acc: 0.8360\n",
      "Epoch 25/100\n",
      "8000/8000 [==============================] - 2s 250us/step - loss: 0.4027 - acc: 0.8356\n",
      "Epoch 26/100\n",
      "8000/8000 [==============================] - 2s 247us/step - loss: 0.4021 - acc: 0.8336\n",
      "Epoch 27/100\n",
      "8000/8000 [==============================] - 2s 239us/step - loss: 0.4024 - acc: 0.8359\n",
      "Epoch 28/100\n",
      "8000/8000 [==============================] - 2s 248us/step - loss: 0.4023 - acc: 0.8337\n",
      "Epoch 29/100\n",
      "8000/8000 [==============================] - 2s 312us/step - loss: 0.4023 - acc: 0.8342\n",
      "Epoch 30/100\n",
      "8000/8000 [==============================] - 2s 264us/step - loss: 0.4022 - acc: 0.8340\n",
      "Epoch 31/100\n",
      "8000/8000 [==============================] - 2s 288us/step - loss: 0.4022 - acc: 0.8326\n",
      "Epoch 32/100\n",
      "8000/8000 [==============================] - 2s 271us/step - loss: 0.4022 - acc: 0.8347\n",
      "Epoch 33/100\n",
      "8000/8000 [==============================] - 2s 272us/step - loss: 0.4017 - acc: 0.8364\n",
      "Epoch 34/100\n",
      "8000/8000 [==============================] - 3s 325us/step - loss: 0.4015 - acc: 0.8359\n",
      "Epoch 35/100\n",
      "8000/8000 [==============================] - 2s 309us/step - loss: 0.4021 - acc: 0.8346\n",
      "Epoch 36/100\n",
      "8000/8000 [==============================] - 2s 288us/step - loss: 0.4017 - acc: 0.8327 0s - loss: 0.3968 - acc: \n",
      "Epoch 37/100\n",
      "8000/8000 [==============================] - 2s 276us/step - loss: 0.4015 - acc: 0.8342\n",
      "Epoch 38/100\n",
      "8000/8000 [==============================] - 2s 287us/step - loss: 0.4012 - acc: 0.8355\n",
      "Epoch 39/100\n",
      "8000/8000 [==============================] - 2s 275us/step - loss: 0.4011 - acc: 0.8331\n",
      "Epoch 40/100\n",
      "8000/8000 [==============================] - 2s 274us/step - loss: 0.4017 - acc: 0.8356\n",
      "Epoch 41/100\n",
      "8000/8000 [==============================] - 2s 267us/step - loss: 0.4009 - acc: 0.8346\n",
      "Epoch 42/100\n",
      "8000/8000 [==============================] - 2s 279us/step - loss: 0.4014 - acc: 0.8345\n",
      "Epoch 43/100\n",
      "8000/8000 [==============================] - 2s 267us/step - loss: 0.4010 - acc: 0.8340\n",
      "Epoch 44/100\n",
      "8000/8000 [==============================] - 2s 279us/step - loss: 0.4010 - acc: 0.8356\n",
      "Epoch 45/100\n",
      "8000/8000 [==============================] - 2s 264us/step - loss: 0.4012 - acc: 0.8351\n",
      "Epoch 46/100\n",
      "8000/8000 [==============================] - 2s 282us/step - loss: 0.4015 - acc: 0.8330\n",
      "Epoch 47/100\n",
      "8000/8000 [==============================] - 2s 260us/step - loss: 0.4012 - acc: 0.8335\n",
      "Epoch 48/100\n",
      "8000/8000 [==============================] - 2s 273us/step - loss: 0.4013 - acc: 0.8316\n",
      "Epoch 49/100\n",
      "8000/8000 [==============================] - 2s 284us/step - loss: 0.4010 - acc: 0.8330\n",
      "Epoch 50/100\n",
      "8000/8000 [==============================] - 2s 269us/step - loss: 0.4006 - acc: 0.8325\n",
      "Epoch 51/100\n",
      "8000/8000 [==============================] - 2s 214us/step - loss: 0.4013 - acc: 0.8352\n",
      "Epoch 52/100\n",
      "8000/8000 [==============================] - 2s 241us/step - loss: 0.4010 - acc: 0.8336\n",
      "Epoch 53/100\n",
      "8000/8000 [==============================] - 2s 219us/step - loss: 0.4009 - acc: 0.8360\n",
      "Epoch 54/100\n",
      "8000/8000 [==============================] - 2s 216us/step - loss: 0.4008 - acc: 0.8347 0s - loss: 0.3967 -\n",
      "Epoch 55/100\n",
      "8000/8000 [==============================] - 2s 291us/step - loss: 0.4010 - acc: 0.8341\n",
      "Epoch 56/100\n",
      "8000/8000 [==============================] - 2s 280us/step - loss: 0.4002 - acc: 0.8360\n",
      "Epoch 57/100\n",
      "8000/8000 [==============================] - 2s 269us/step - loss: 0.4012 - acc: 0.8356\n",
      "Epoch 58/100\n",
      "8000/8000 [==============================] - 2s 270us/step - loss: 0.4009 - acc: 0.8336\n",
      "Epoch 59/100\n",
      "8000/8000 [==============================] - 2s 273us/step - loss: 0.4007 - acc: 0.8336\n",
      "Epoch 60/100\n",
      "8000/8000 [==============================] - 2s 246us/step - loss: 0.4008 - acc: 0.8336\n",
      "Epoch 61/100\n",
      "8000/8000 [==============================] - 2s 253us/step - loss: 0.4009 - acc: 0.8344\n",
      "Epoch 62/100\n",
      "8000/8000 [==============================] - 2s 249us/step - loss: 0.4008 - acc: 0.8335\n",
      "Epoch 63/100\n",
      "8000/8000 [==============================] - 2s 273us/step - loss: 0.4005 - acc: 0.8332\n",
      "Epoch 64/100\n",
      "8000/8000 [==============================] - 2s 276us/step - loss: 0.4008 - acc: 0.8350\n",
      "Epoch 65/100\n",
      "8000/8000 [==============================] - 2s 265us/step - loss: 0.4014 - acc: 0.8355\n",
      "Epoch 66/100\n",
      "8000/8000 [==============================] - 2s 268us/step - loss: 0.4007 - acc: 0.8356\n",
      "Epoch 67/100\n",
      "8000/8000 [==============================] - 2s 270us/step - loss: 0.4007 - acc: 0.8342\n",
      "Epoch 68/100\n",
      "8000/8000 [==============================] - 2s 287us/step - loss: 0.4009 - acc: 0.8350\n",
      "Epoch 69/100\n",
      "8000/8000 [==============================] - 2s 275us/step - loss: 0.4006 - acc: 0.8334\n",
      "Epoch 70/100\n",
      "8000/8000 [==============================] - 2s 264us/step - loss: 0.4010 - acc: 0.8359\n",
      "Epoch 71/100\n",
      "8000/8000 [==============================] - 2s 254us/step - loss: 0.4008 - acc: 0.8346\n",
      "Epoch 72/100\n",
      "8000/8000 [==============================] - 2s 257us/step - loss: 0.4005 - acc: 0.8340\n",
      "Epoch 73/100\n",
      "8000/8000 [==============================] - 2s 271us/step - loss: 0.4007 - acc: 0.8347\n",
      "Epoch 74/100\n",
      "8000/8000 [==============================] - 2s 298us/step - loss: 0.4001 - acc: 0.8346\n",
      "Epoch 75/100\n",
      "8000/8000 [==============================] - 2s 274us/step - loss: 0.4005 - acc: 0.8350\n",
      "Epoch 76/100\n",
      "8000/8000 [==============================] - 2s 282us/step - loss: 0.4009 - acc: 0.8346\n",
      "Epoch 77/100\n",
      "8000/8000 [==============================] - 2s 282us/step - loss: 0.4007 - acc: 0.8347\n",
      "Epoch 78/100\n",
      "8000/8000 [==============================] - 2s 284us/step - loss: 0.4009 - acc: 0.8341\n",
      "Epoch 79/100\n",
      "8000/8000 [==============================] - 2s 285us/step - loss: 0.4008 - acc: 0.8359\n",
      "Epoch 80/100\n",
      "8000/8000 [==============================] - 2s 277us/step - loss: 0.4008 - acc: 0.8350\n",
      "Epoch 81/100\n"
     ]
    },
    {
     "name": "stdout",
     "output_type": "stream",
     "text": [
      "8000/8000 [==============================] - 2s 256us/step - loss: 0.4008 - acc: 0.8341\n",
      "Epoch 82/100\n",
      "8000/8000 [==============================] - 2s 236us/step - loss: 0.4005 - acc: 0.8351\n",
      "Epoch 83/100\n",
      "8000/8000 [==============================] - 2s 244us/step - loss: 0.4006 - acc: 0.8340\n",
      "Epoch 84/100\n",
      "8000/8000 [==============================] - 2s 226us/step - loss: 0.4004 - acc: 0.8364\n",
      "Epoch 85/100\n",
      "8000/8000 [==============================] - 2s 229us/step - loss: 0.4003 - acc: 0.8340\n",
      "Epoch 86/100\n",
      "8000/8000 [==============================] - 2s 230us/step - loss: 0.4005 - acc: 0.8362\n",
      "Epoch 87/100\n",
      "8000/8000 [==============================] - 2s 239us/step - loss: 0.4005 - acc: 0.8341\n",
      "Epoch 88/100\n",
      "8000/8000 [==============================] - 2s 255us/step - loss: 0.4004 - acc: 0.8341\n",
      "Epoch 89/100\n",
      "8000/8000 [==============================] - 2s 231us/step - loss: 0.4007 - acc: 0.8340\n",
      "Epoch 90/100\n",
      "8000/8000 [==============================] - 2s 226us/step - loss: 0.4004 - acc: 0.8357\n",
      "Epoch 91/100\n",
      "8000/8000 [==============================] - 2s 249us/step - loss: 0.4007 - acc: 0.8332\n",
      "Epoch 92/100\n",
      "8000/8000 [==============================] - 2s 244us/step - loss: 0.4005 - acc: 0.8344\n",
      "Epoch 93/100\n",
      "8000/8000 [==============================] - 2s 253us/step - loss: 0.4003 - acc: 0.8359\n",
      "Epoch 94/100\n",
      "8000/8000 [==============================] - 2s 227us/step - loss: 0.4010 - acc: 0.8344\n",
      "Epoch 95/100\n",
      "8000/8000 [==============================] - 2s 240us/step - loss: 0.4003 - acc: 0.8340\n",
      "Epoch 96/100\n",
      "8000/8000 [==============================] - 2s 230us/step - loss: 0.4002 - acc: 0.8345\n",
      "Epoch 97/100\n",
      "8000/8000 [==============================] - 2s 237us/step - loss: 0.4006 - acc: 0.8340\n",
      "Epoch 98/100\n",
      "8000/8000 [==============================] - 2s 263us/step - loss: 0.4006 - acc: 0.8354\n",
      "Epoch 99/100\n",
      "8000/8000 [==============================] - 2s 298us/step - loss: 0.4004 - acc: 0.8352\n",
      "Epoch 100/100\n",
      "8000/8000 [==============================] - 2s 270us/step - loss: 0.4008 - acc: 0.8360\n"
     ]
    },
    {
     "data": {
      "text/plain": [
       "<keras.callbacks.History at 0x2356fc59e10>"
      ]
     },
     "execution_count": 85,
     "metadata": {},
     "output_type": "execute_result"
    }
   ],
   "source": [
    "classifier.fit(X_train,y_train,batch_size = 10, epochs = 100)"
   ]
  },
  {
   "cell_type": "code",
   "execution_count": 89,
   "metadata": {},
   "outputs": [
    {
     "data": {
      "text/plain": [
       "array([[False],\n",
       "       [False],\n",
       "       [False],\n",
       "       ...,\n",
       "       [False],\n",
       "       [False],\n",
       "       [False]])"
      ]
     },
     "execution_count": 89,
     "metadata": {},
     "output_type": "execute_result"
    }
   ],
   "source": [
    "y_pred = classifier.predict(X_test)\n",
    "y_pred = (y_pred>0.5)\n",
    "y_pred"
   ]
  },
  {
   "cell_type": "code",
   "execution_count": 92,
   "metadata": {},
   "outputs": [
    {
     "data": {
      "text/plain": [
       "array([[1543,   52],\n",
       "       [ 267,  138]], dtype=int64)"
      ]
     },
     "execution_count": 92,
     "metadata": {},
     "output_type": "execute_result"
    }
   ],
   "source": [
    "from sklearn.metrics import confusion_matrix\n",
    "cm = confusion_matrix(y_test,y_pred)\n",
    "cm"
   ]
  },
  {
   "cell_type": "code",
   "execution_count": 94,
   "metadata": {},
   "outputs": [
    {
     "data": {
      "text/plain": [
       "0.810232004759072"
      ]
     },
     "execution_count": 94,
     "metadata": {},
     "output_type": "execute_result"
    }
   ],
   "source": [
    "1-((267+52)/(1543+138))"
   ]
  },
  {
   "cell_type": "code",
   "execution_count": null,
   "metadata": {},
   "outputs": [],
   "source": []
  }
 ],
 "metadata": {
  "kernelspec": {
   "display_name": "Python 3",
   "language": "python",
   "name": "python3"
  },
  "language_info": {
   "codemirror_mode": {
    "name": "ipython",
    "version": 3
   },
   "file_extension": ".py",
   "mimetype": "text/x-python",
   "name": "python",
   "nbconvert_exporter": "python",
   "pygments_lexer": "ipython3",
   "version": "3.6.4"
  }
 },
 "nbformat": 4,
 "nbformat_minor": 2
}
