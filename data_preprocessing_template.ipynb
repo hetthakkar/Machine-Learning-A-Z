{
 "cells": [
  {
   "cell_type": "code",
   "execution_count": 86,
   "metadata": {},
   "outputs": [],
   "source": [
    "# Importing the libraries\n",
    "import numpy as np\n",
    "import matplotlib.pyplot as plt\n",
    "import pandas as pd\n"
   ]
  },
  {
   "cell_type": "code",
   "execution_count": 87,
   "metadata": {},
   "outputs": [],
   "source": [
    "dataset = pd.read_csv('Data.csv')\n",
    "#Reading Data"
   ]
  },
  {
   "cell_type": "code",
   "execution_count": 88,
   "metadata": {},
   "outputs": [],
   "source": [
    "datasetX = dataset.iloc[:,:-1].values\n",
    "datasetY = dataset.iloc[:,3].values\n",
    "#seperating the fields"
   ]
  },
  {
   "cell_type": "code",
   "execution_count": 89,
   "metadata": {},
   "outputs": [],
   "source": [
    "#Missing data\n",
    "#fill the mean of the values at the missing places\n",
    "\n",
    "from sklearn.preprocessing import Imputer\n",
    "imputer = Imputer(missing_values = 'NaN',strategy = 'most_frequent',axis = 0)\n",
    "imputer = imputer.fit(datasetX[:,1:3])\n",
    "datasetX[:,1:3] = imputer.transform(datasetX[:,1:3])"
   ]
  },
  {
   "cell_type": "code",
   "execution_count": 90,
   "metadata": {},
   "outputs": [],
   "source": [
    "from sklearn.preprocessing import LabelEncoder, OneHotEncoder\n",
    "labelencoder_X = LabelEncoder()\n",
    "datasetX[:,0] = labelencoder_X.fit_transform(datasetX[:,0])\n",
    "onehotencoderX = OneHotEncoder(categorical_features = [0])\n",
    "datasetX = onehotencoderX.fit_transform(datasetX).toarray()\n",
    "\n",
    "labelencoderY = LabelEncoder()\n",
    "datasetY = labelencoderY.fit_transform(datasetY)\n",
    "#rint(datasetY)"
   ]
  },
  {
   "cell_type": "code",
   "execution_count": 92,
   "metadata": {},
   "outputs": [
    {
     "name": "stdout",
     "output_type": "stream",
     "text": [
      "[[0.0e+00 1.0e+00 0.0e+00 3.0e+01 5.4e+04]\n",
      " [0.0e+00 0.0e+00 1.0e+00 3.8e+01 6.1e+04]]\n"
     ]
    }
   ],
   "source": [
    "#splitting data into training and test\n",
    "from sklearn.model_selection import train_test_split \n",
    "datasetX_train, datasetX_test, datasetY_train, datasetY_test = train_test_split(datasetX, datasetY, test_size = 0.2)\n",
    "#print(datasetX_test)"
   ]
  },
  {
   "cell_type": "code",
   "execution_count": 95,
   "metadata": {},
   "outputs": [],
   "source": [
    "#feature scaling\n",
    "from sklearn.preprocessing import StandardScaler\n",
    "stdscl = StandardScaler()\n",
    "datasetX_train = stdscl.fit_transform(datasetX_train)\n",
    "datasetX_test = stdscl.transform(datasetX_test)\n",
    "#print(datasetX_test)"
   ]
  },
  {
   "cell_type": "code",
   "execution_count": null,
   "metadata": {},
   "outputs": [],
   "source": []
  }
 ],
 "metadata": {
  "kernelspec": {
   "display_name": "Python 3",
   "language": "python",
   "name": "python3"
  },
  "language_info": {
   "codemirror_mode": {
    "name": "ipython",
    "version": 3
   },
   "file_extension": ".py",
   "mimetype": "text/x-python",
   "name": "python",
   "nbconvert_exporter": "python",
   "pygments_lexer": "ipython3",
   "version": "3.6.4"
  }
 },
 "nbformat": 4,
 "nbformat_minor": 2
}
